{
 "cells": [
  {
   "cell_type": "code",
   "id": "initial_id",
   "metadata": {
    "collapsed": true,
    "ExecuteTime": {
     "end_time": "2025-04-11T04:43:12.079983Z",
     "start_time": "2025-04-11T04:43:12.060354Z"
    }
   },
   "source": [
    "# Abrimos el archivo en modo lectura\n",
    "with open(\"informacion.txt\", \"r\", encoding=\"utf-8\") as archivo:\n",
    "    lineas = archivo.readlines()\n",
    "\n",
    "# Mostramos cada línea detalladamente\n",
    "for i, linea in enumerate(lineas, start=1):\n",
    "    print(f\"Línea {i}: {linea.strip()}\")"
   ],
   "outputs": [
    {
     "name": "stdout",
     "output_type": "stream",
     "text": [
      "Línea 1: Nombres;Apellidos,Dirección;Correo\n",
      "Línea 2: Krystal Nguyen;Lee;53707 Taylor Trail Suite 291West Ralph, DC 46920;devin26@example.net\n",
      "Línea 3: Michael Cervantes;Brown;4006 Patrick InletWest Tonimouth, HI 37629;jacqueline66@example.com\n",
      "Línea 4: Trevor Leonard;Burke;2195 Kelly Terrace Suite 452North Darrylfurt, AZ 14118;kkeller@example.com\n",
      "Línea 5: Shannon Ramirez;Marquez;1187 Patrick Rapids Apt. 050Mclaughlinton, NE 97059;megan55@example.org\n",
      "Línea 6: Hannah Shannon;Holloway;701 Fields Crest Suite 566Meyermouth, SD 57962;angela01@example.org\n",
      "Línea 7: Ashley Cooper;Santos;22140 Benjamin LakesSouth Royfort, TN 04415;rebeccaduncan@example.com\n",
      "Línea 8: Amanda Nunez;Knight;2382 Maria GrovesTerriview, IN 62256;tbrooks@example.com\n",
      "Línea 9: Amanda Montgomery;Caldwell;8101 Gardner TurnpikeLake Julieview, MI 48828;benjamin82@example.net\n",
      "Línea 10: Cynthia Wilson;Carr;1079 Robin RanchWest Louis, FM 45530;fhaynes@example.net\n",
      "Línea 11: Natalie Buchanan;Vaughan;80997 Ward Orchard Suite 799Wilcoxstad, SC 19525;jasonfox@example.com\n",
      "Línea 12: Michael Richards;Carlson;9866 Christina Trail Apt. 162North Jennifer, WA 91855;darryl97@example.org\n",
      "Línea 13: Rodney Garcia;Bailey;4830 Rowland TunnelTimothyhaven, VT 66125;crawfordrobin@example.com\n",
      "Línea 14: Connie Callahan;Wilson;0626 Jefferson Shores Suite 216West Brian, DE 75550;yanderson@example.net\n",
      "Línea 15: Javier Marquez;Mcdowell;2671 Conley JunctionsMichaelton, AL 42985;brian49@example.net\n",
      "Línea 16: Bill Sandoval;Newman;0309 Annette Glen Suite 066Scottborough, PA 99450;zsexton@example.net\n",
      "Línea 17: Chase Reyes;Williams;5610 Sharp Points Apt. 545Marshallshire, KS 94804;michael68@example.com\n",
      "Línea 18: Timothy Scott;Hopkins;PSC 3859, Box 3450APO AE 79126;zholt@example.com\n",
      "Línea 19: James Adams;Smith;3970 Jennifer VilleGentryhaven, AL 68900;sabrina67@example.com\n",
      "Línea 20: Catherine Ferguson;Wells;53759 Young Expressway Apt. 032South Alejandro, CA 62994;bairdsteven@example.org\n",
      "Línea 21: Evan Castillo;Horton;8679 Earl RadialPaulmouth, MN 95138;andersontheresa@example.net\n",
      "Línea 22: Brenda Riddle;Carrillo;75437 Fox Plains Suite 279West Alejandromouth, PA 00764;fdeleon@example.com\n",
      "Línea 23: Lynn Baker;Floyd;6220 Stephanie IsleJoneston, NH 57078;robertclark@example.com\n",
      "Línea 24: Kelsey Rice;Horton;55429 Larry RowJosephchester, WY 24989;elizabeth12@example.com\n",
      "Línea 25: Wesley Miller;Hampton;6833 Cynthia EstatesKennethville, WY 85904;lisalittle@example.com\n",
      "Línea 26: Jonathan Boyle;Stephenson;30205 Walker ViaPort Sierra, AZ 79303;rgraham@example.net\n",
      "Línea 27: Patricia Smith;Barber;USS CharlesFPO AP 70673;doyleallison@example.org\n",
      "Línea 28: Christopher Huerta;Nelson;325 Wilson MallWest Johnathanberg, TX 08755;xmeza@example.org\n",
      "Línea 29: Heather Johnson;Collins;97348 Michael CourtRaymondstad, ID 25592;paul25@example.com\n",
      "Línea 30: Patricia Montgomery MD;Robertson;509 Christina Crossroad Apt. 575West Sylviamouth, NY 66504;brownbrian@example.org\n",
      "Línea 31: Frank Ryan;Wilson;244 Nathan Cliffs Apt. 087Lake Anitatown, SC 04511;denisesims@example.org\n"
     ]
    }
   ],
   "execution_count": 3
  }
 ],
 "metadata": {
  "kernelspec": {
   "display_name": "Python 3",
   "language": "python",
   "name": "python3"
  },
  "language_info": {
   "codemirror_mode": {
    "name": "ipython",
    "version": 2
   },
   "file_extension": ".py",
   "mimetype": "text/x-python",
   "name": "python",
   "nbconvert_exporter": "python",
   "pygments_lexer": "ipython2",
   "version": "2.7.6"
  }
 },
 "nbformat": 4,
 "nbformat_minor": 5
}
