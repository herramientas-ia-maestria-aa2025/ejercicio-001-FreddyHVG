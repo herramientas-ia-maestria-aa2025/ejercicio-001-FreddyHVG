{
 "cells": [
  {
   "cell_type": "code",
   "id": "initial_id",
   "metadata": {
    "collapsed": true,
    "ExecuteTime": {
     "end_time": "2025-04-12T00:53:46.281426Z",
     "start_time": "2025-04-12T00:53:46.273277Z"
    }
   },
   "source": [
    "# Abrimos el archivo\n",
    "archivo = open(\"informacion.txt\", \"r\", encoding=\"utf-8\")\n",
    "lineas = archivo.readlines()\n",
    "archivo.close()\n",
    "\n",
    "# Limpiamos y separamos cada línea\n",
    "lineas = [r.strip().split(\";\") for r in lineas]\n",
    "\n",
    "# Saltamos encabezado si lo hay\n",
    "lineas = lineas[1:]\n",
    "\n",
    "# Recorremos y mostramos solo apellidos con B\n",
    "for linea in lineas:\n",
    "    apellido = linea[1]\n",
    "    if apellido.startswith(\"B\"):\n",
    "        print(linea)\n",
    "# Ejercicio 2\n",
    "# Recorremos y mostramos solo correos .org\n",
    "print(\"-\" * 40)\n",
    "print (\"Solución al ejercicio 2:\")\n",
    "print(\"-\" * 40)\n",
    "for linea in lineas:\n",
    "    if len(linea) >= 4:\n",
    "        correo = linea[3]\n",
    "        if \".org\" in correo:\n",
    "            print(linea)"
   ],
   "outputs": [
    {
     "name": "stdout",
     "output_type": "stream",
     "text": [
      "['Michael Cervantes', 'Brown', '4006 Patrick InletWest Tonimouth, HI 37629', 'jacqueline66@example.com']\n",
      "['Trevor Leonard', 'Burke', '2195 Kelly Terrace Suite 452North Darrylfurt, AZ 14118', 'kkeller@example.com']\n",
      "['Rodney Garcia', 'Bailey', '4830 Rowland TunnelTimothyhaven, VT 66125', 'crawfordrobin@example.com']\n",
      "['Patricia Smith', 'Barber', 'USS CharlesFPO AP 70673', 'doyleallison@example.org']\n",
      "----------------------------------------\n",
      "Solución al ejercicio 2:\n",
      "----------------------------------------\n",
      "['Shannon Ramirez', 'Marquez', '1187 Patrick Rapids Apt. 050Mclaughlinton, NE 97059', 'megan55@example.org']\n",
      "['Hannah Shannon', 'Holloway', '701 Fields Crest Suite 566Meyermouth, SD 57962', 'angela01@example.org']\n",
      "['Michael Richards', 'Carlson', '9866 Christina Trail Apt. 162North Jennifer, WA 91855', 'darryl97@example.org']\n",
      "['Catherine Ferguson', 'Wells', '53759 Young Expressway Apt. 032South Alejandro, CA 62994', 'bairdsteven@example.org']\n",
      "['Patricia Smith', 'Barber', 'USS CharlesFPO AP 70673', 'doyleallison@example.org']\n",
      "['Christopher Huerta', 'Nelson', '325 Wilson MallWest Johnathanberg, TX 08755', 'xmeza@example.org']\n",
      "['Patricia Montgomery MD', 'Robertson', '509 Christina Crossroad Apt. 575West Sylviamouth, NY 66504', 'brownbrian@example.org']\n",
      "['Frank Ryan', 'Wilson', '244 Nathan Cliffs Apt. 087Lake Anitatown, SC 04511', 'denisesims@example.org']\n"
     ]
    }
   ],
   "execution_count": 19
  }
 ],
 "metadata": {
  "kernelspec": {
   "display_name": "Python 3",
   "language": "python",
   "name": "python3"
  },
  "language_info": {
   "codemirror_mode": {
    "name": "ipython",
    "version": 2
   },
   "file_extension": ".py",
   "mimetype": "text/x-python",
   "name": "python",
   "nbconvert_exporter": "python",
   "pygments_lexer": "ipython2",
   "version": "2.7.6"
  }
 },
 "nbformat": 4,
 "nbformat_minor": 5
}
